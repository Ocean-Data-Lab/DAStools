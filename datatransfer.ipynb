{
 "cells": [
  {
   "cell_type": "markdown",
   "metadata": {
    "vscode": {
     "languageId": "plaintext"
    }
   },
   "source": [
    "## Notebook to transfer data from OOI Piweb server to ODL NAS"
   ]
  },
  {
   "cell_type": "code",
   "execution_count": 1,
   "metadata": {},
   "outputs": [],
   "source": [
    "import requests\n",
    "import os\n",
    "from bs4 import BeautifulSoup\n",
    "from urllib.parse import urljoin, urlparse\n",
    "from tqdm import tqdm"
   ]
  },
  {
   "cell_type": "code",
   "execution_count": 2,
   "metadata": {},
   "outputs": [],
   "source": [
    "def list_files_in_directory(http_url):\n",
    "    \"\"\"List all files in the given HTTP directory and subdirectories.\"\"\"\n",
    "    response = requests.get(http_url)\n",
    "    response.raise_for_status()  # Raise an error for bad responses\n",
    "\n",
    "    # Parse the HTML content\n",
    "    soup = BeautifulSoup(response.text, 'html.parser')\n",
    "    \n",
    "    file_links = []\n",
    "    folder_links = []\n",
    "    \n",
    "    for link in soup.find_all('a'):\n",
    "        href = link.get('href')\n",
    "        full_url = urljoin(http_url, href)\n",
    "\n",
    "        if href.endswith('/'):  # It's a directory\n",
    "            folder_links.append(full_url)\n",
    "        else:  # It's a file\n",
    "            file_links.append(full_url)\n",
    "    \n",
    "    return file_links, folder_links\n",
    "\n",
    "def create_nested_directory(nas_base_path, http_url):\n",
    "    \"\"\"Create a nested directory structure on the NAS based on the HTTP URL.\"\"\"\n",
    "    relative_path = http_url.replace(\"http://\", \"\").replace(\"https://\", \"\").replace(\"/\", os.sep)\n",
    "    nas_path = os.path.join(nas_base_path, relative_path)\n",
    "\n",
    "    # Create directories if they do not exist\n",
    "    os.makedirs(os.path.dirname(nas_path), exist_ok=True)\n",
    "\n",
    "    return nas_path\n",
    "\n",
    "def stream_file_to_nas(http_url, nas_path):\n",
    "    \"\"\"Stream a file from an HTTP server directly to the NAS with a progress bar.\"\"\"\n",
    "    response = requests.get(http_url, stream=True)\n",
    "    \n",
    "    if response.status_code == 200:\n",
    "        total_size = int(response.headers.get('content-length', 0))  # Get total file size\n",
    "        with open(nas_path, 'wb') as f:\n",
    "            # Initialize tqdm progress bar\n",
    "            filename = os.path.basename(nas_path)\n",
    "            for chunk in response.iter_content(chunk_size=8192):\n",
    "                if chunk:  # filter out keep-alive new chunks\n",
    "                    f.write(chunk)\n",
    "        print(f\"File successfully streamed to: {os.path.split(nas_path)[-2]}\")\n",
    "    else:\n",
    "        print(f\"Failed to download file. HTTP Status code: {response.status_code}\")\n",
    "\n",
    "def download_and_stream_files(http_url, nas_base_directory):\n",
    "    # Get list of files and folders\n",
    "    file_links, folder_links = list_files_in_directory(http_url)\n",
    "    \n",
    "    # Loop through each file link (if any)\n",
    "    for file_url in tqdm(file_links):\n",
    "        nas_path = create_nested_directory(nas_base_directory, file_url)  # Create necessary directories\n",
    "        try:\n",
    "            # Stream the file directly to the NAS\n",
    "            stream_file_to_nas(file_url, nas_path)\n",
    "        except Exception as e:\n",
    "            print(f\"Failed to stream {file_url} to {nas_path}: {e}\")\n",
    "\n",
    "    # Recursively process each folder, until file_links is not empty anymore\n",
    "    for folder_url in folder_links:\n",
    "        download_and_stream_files(folder_url, nas_base_directory)  # Recursive call for subdirectories"
   ]
  },
  {
   "cell_type": "markdown",
   "metadata": {},
   "source": [
    "To mount the NAS as a local storage use, with write permissions, use the following commands:\n",
    "\n",
    "```bash\n",
    "sudo apt-get install cifs-utils\n",
    "sudo mkdir -p /media/odl_nas\n",
    "sudo mount -t cifs -o credentials=/home/<user>/.smbcredentials,dir_mode=0777,file_mode=0777 //odl.ocean.washington.edu/ODL /media/odl_nas\n",
    "```\n",
    "\n",
    "After creating `.smbcredentials` with this format:\n",
    "\n",
    "```bash\n",
    "username=your_username\n",
    "password=your_password\n",
    "```"
   ]
  },
  {
   "cell_type": "code",
   "execution_count": null,
   "metadata": {},
   "outputs": [],
   "source": [
    "# Example usage:\n",
    "http_url = \"http://piweb.ooirsn.uw.edu/das/\"\n",
    "nas_directory = \"/media/odl_nas/ODLdata/ooiDAS/\"\n",
    "# Stream the file directly to NAS\n",
    "download_and_stream_files(http_url, nas_directory)"
   ]
  }
 ],
 "metadata": {
  "kernelspec": {
   "display_name": "venv",
   "language": "python",
   "name": "python3"
  },
  "language_info": {
   "codemirror_mode": {
    "name": "ipython",
    "version": 3
   },
   "file_extension": ".py",
   "mimetype": "text/x-python",
   "name": "python",
   "nbconvert_exporter": "python",
   "pygments_lexer": "ipython3",
   "version": "3.12.3"
  }
 },
 "nbformat": 4,
 "nbformat_minor": 2
}
