{
 "cells": [
  {
   "cell_type": "markdown",
   "metadata": {
    "vscode": {
     "languageId": "plaintext"
    }
   },
   "source": [
    "## Notebook to transfer data from OOI Piweb server to ODL NAS"
   ]
  },
  {
   "cell_type": "code",
   "execution_count": 1,
   "metadata": {},
   "outputs": [],
   "source": [
    "import requests\n",
    "import os"
   ]
  },
  {
   "cell_type": "code",
   "execution_count": 2,
   "metadata": {},
   "outputs": [],
   "source": [
    "\n",
    "def stream_file_to_nas(http_url, nas_path):\n",
    "    \"\"\"Stream a file from an HTTP server directly to the NAS.\"\"\"\n",
    "    response = requests.get(http_url, stream=True)\n",
    "    \n",
    "    if response.status_code == 200:\n",
    "        with open(nas_path, 'wb') as f:\n",
    "            for chunk in response.iter_content(chunk_size=8192):\n",
    "                if chunk:  # filter out keep-alive new chunks\n",
    "                    f.write(chunk)\n",
    "        print(f\"File successfully streamed to: {nas_path}\")\n",
    "    else:\n",
    "        print(f\"Failed to download file. HTTP Status code: {response.status_code}\")"
   ]
  },
  {
   "cell_type": "markdown",
   "metadata": {},
   "source": [
    "To mount the NAS as a local storage use:\n",
    "\n",
    "```bash\n",
    "mkdir -p /media/odl_nas\n",
    "sudo mount -t cifs -o credentials=/home/<user>/.smbcredentials,dir_mode=0777,file_mode=0777 //odl.ocean.washington.edu/ODL /media/odl_nas\n",
    "```\n",
    "\n",
    "After creating `.smbcredentials` with this format:\n",
    "\n",
    "```bash\n",
    "username=your_username\n",
    "password=your_password\n",
    "```"
   ]
  },
  {
   "cell_type": "code",
   "execution_count": 3,
   "metadata": {},
   "outputs": [
    {
     "name": "stdout",
     "output_type": "stream",
     "text": [
      "File successfully streamed to: /media/odl_nas/ODLdata/ooiDAS/North-C1-LR-P1kHz-GL50m-Sp2m-FS200Hz-ReceiveFiber_2021-11-05T143211Z.h5\n"
     ]
    }
   ],
   "source": [
    "# Example usage:\n",
    "http_url = \"http://piweb.ooirsn.uw.edu/das/data/Optasense/NorthCable/ReceiveFiber/North-C1-LR-P1kHz-GL50m-Sp2m-FS200Hz-ReceiveFiber_2021-11-05T07_31_00-0700/North-C1-LR-P1kHz-GL50m-Sp2m-FS200Hz-ReceiveFiber_2021-11-05T143211Z.h5\"\n",
    "nas_file_path = \"/media/odl_nas/ODLdata/ooiDAS/North-C1-LR-P1kHz-GL50m-Sp2m-FS200Hz-ReceiveFiber_2021-11-05T143211Z.h5\"\n",
    "# Stream the file directly to NAS\n",
    "stream_file_to_nas(http_url, nas_file_path)"
   ]
  }
 ],
 "metadata": {
  "kernelspec": {
   "display_name": "venv",
   "language": "python",
   "name": "python3"
  },
  "language_info": {
   "codemirror_mode": {
    "name": "ipython",
    "version": 3
   },
   "file_extension": ".py",
   "mimetype": "text/x-python",
   "name": "python",
   "nbconvert_exporter": "python",
   "pygments_lexer": "ipython3",
   "version": "3.12.7"
  }
 },
 "nbformat": 4,
 "nbformat_minor": 2
}
